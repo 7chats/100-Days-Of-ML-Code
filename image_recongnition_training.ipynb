{
  "nbformat": 4,
  "nbformat_minor": 0,
  "metadata": {
    "colab": {
      "private_outputs": true,
      "provenance": [],
      "authorship_tag": "ABX9TyPlmE83suv59baCxKphSouL",
      "include_colab_link": true
    },
    "kernelspec": {
      "name": "python3",
      "display_name": "Python 3"
    },
    "language_info": {
      "name": "python"
    }
  },
  "cells": [
    {
      "cell_type": "markdown",
      "metadata": {
        "id": "view-in-github",
        "colab_type": "text"
      },
      "source": [
        "<a href=\"https://colab.research.google.com/github/AiDriveOne/100-Days-Of-ML-Code/blob/master/image_recongnition_training.ipynb\" target=\"_parent\"><img src=\"https://colab.research.google.com/assets/colab-badge.svg\" alt=\"Open In Colab\"/></a>"
      ]
    },
    {
      "cell_type": "markdown",
      "source": [
        "**image recongnition training**"
      ],
      "metadata": {
        "id": "YuuxLCxhrewL"
      }
    },
    {
      "cell_type": "code",
      "source": [
        "from google.colab import files\n",
        "import zipfile\n",
        "import io\n",
        "import os\n",
        "\n",
        "# Step 1: Upload the zip file\n",
        "uploaded = files.upload()\n",
        "\n",
        "# Step 1.1: Display the keys in the uploaded dictionary\n",
        "print(\"Uploaded keys:\", uploaded.keys())\n",
        "\n",
        "# Step 2: Extract the zip file\n",
        "zip_file_name = list(uploaded.keys())[0]  # Use the first key in the dictionary\n",
        "extracted_path = '/content/data/'  # Change the destination directory as needed\n",
        "\n",
        "with zipfile.ZipFile(io.BytesIO(uploaded[zip_file_name]), 'r') as zip_ref:\n",
        "    zip_ref.extractall(extracted_path)\n",
        "\n",
        "# Step 3: Verify the contents\n",
        "contents = os.listdir(extracted_path)\n",
        "print(\"Extracted contents:\", contents)\n",
        "\n",
        "# Step 4: Implement training function code using the extracted data\n",
        "# Your training code goes here...\n"
      ],
      "metadata": {
        "id": "mJ_Gpafrvnh6"
      },
      "execution_count": null,
      "outputs": []
    },
    {
      "cell_type": "code",
      "source": [
        "pip install tensorflow"
      ],
      "metadata": {
        "id": "Uq1hdY5kzP_a"
      },
      "execution_count": null,
      "outputs": []
    },
    {
      "cell_type": "code",
      "source": [
        "import os\n",
        "\n",
        "# Get the current working directory\n",
        "current_directory = os.getcwd()\n",
        "\n",
        "# Specify the image directory relative to the current directory\n",
        "image_directory = os.path.join(current_directory, \"image\")\n"
      ],
      "metadata": {
        "id": "0UNYH_qd19kc"
      },
      "execution_count": null,
      "outputs": []
    },
    {
      "cell_type": "code",
      "source": [
        "image_directory = \"/absolute/path/to/your/actual/image/directory\""
      ],
      "metadata": {
        "id": "5yu-OL4e3Tcr"
      },
      "execution_count": null,
      "outputs": []
    },
    {
      "cell_type": "code",
      "source": [
        "import tensorflow as tf\n",
        "from tensorflow import keras\n",
        "from tensorflow.keras import layers"
      ],
      "metadata": {
        "id": "NSWSVOY74rNV"
      },
      "execution_count": null,
      "outputs": []
    },
    {
      "cell_type": "code",
      "source": [
        "(x_train, y_train), (x_test, y_test) = keras.datasets.mnist.load_data()"
      ],
      "metadata": {
        "id": "NZzUl_qk4xsM"
      },
      "execution_count": null,
      "outputs": []
    },
    {
      "cell_type": "code",
      "source": [
        "x_train = x_train.astype('float32') / 255.0\n",
        "x_test = x_test.astype('float32') / 255.0"
      ],
      "metadata": {
        "id": "4rCMqL-S48Pe"
      },
      "execution_count": null,
      "outputs": []
    },
    {
      "cell_type": "code",
      "source": [
        "model = keras.Sequential([\n",
        "  layers.Conv2D(32, (3, 3), activation='relu', input_shape=(28, 28, 1)),\n",
        "  layers.MaxPooling2D((2, 2)),\n",
        "  layers.Conv2D(64, (3, 3), activation='relu'),\n",
        "  layers.MaxPooling2D((2, 2)),\n",
        "  layers.Flatten(),\n",
        "  layers.Dense(128, activation='relu'),\n",
        "  layers.Dense(10, activation='softmax')\n",
        "])"
      ],
      "metadata": {
        "id": "C5s6RaoJ5DCH"
      },
      "execution_count": null,
      "outputs": []
    },
    {
      "cell_type": "code",
      "source": [
        "model.compile(optimizer='adam', loss='sparse_categorical_crossentropy', metrics=['accuracy'])"
      ],
      "metadata": {
        "id": "Te9UiIPD5I9R"
      },
      "execution_count": null,
      "outputs": []
    },
    {
      "cell_type": "code",
      "source": [
        "model.fit(x_train, y_train, epochs=10)"
      ],
      "metadata": {
        "id": "7KF835hX5PtQ"
      },
      "execution_count": null,
      "outputs": []
    },
    {
      "cell_type": "code",
      "source": [
        "model.evaluate(x_test, y_test)"
      ],
      "metadata": {
        "id": "AXlxUgOM7szr"
      },
      "execution_count": null,
      "outputs": []
    },
    {
      "cell_type": "code",
      "source": [
        "model.save('my_model.h5')"
      ],
      "metadata": {
        "id": "Wjv9A-oi78I6"
      },
      "execution_count": null,
      "outputs": []
    },
    {
      "cell_type": "code",
      "source": [
        "model = keras.models"
      ],
      "metadata": {
        "id": "AVxD9ylv8a8h"
      },
      "execution_count": null,
      "outputs": []
    }
  ]
}